{
 "cells": [
  {
   "cell_type": "code",
   "execution_count": null,
   "metadata": {},
   "outputs": [],
   "source": [
    "import pandas as pd"
   ]
  },
  {
   "cell_type": "code",
   "execution_count": null,
   "metadata": {},
   "outputs": [],
   "source": [
    "def count_num_tasks(df):\n",
    "    prev_task = \"\"\n",
    "    count = 0\n",
    "    row_count = 0\n",
    "    total_row_count = len(df.index)\n",
    "\n",
    "    for index, row in df.iterrows():\n",
    "        cur_task = row[\"Current_task\"]\n",
    "        if cur_task.upper() != \"PRETASK\".upper():\n",
    "            if prev_task.upper() != cur_task.upper():\n",
    "                count += 1\n",
    "\n",
    "            prev_task = cur_task\n",
    "\n",
    "        row_count += 1\n",
    "        s = \"Row: {}/{}\".format(row_count, total_row_count)\n",
    "        print(s, end=\"\\r\")\n",
    "\n",
    "    print(\"\")\n",
    "    print(count)\n",
    "    return count"
   ]
  },
  {
   "cell_type": "code",
   "execution_count": null,
   "metadata": {},
   "outputs": [],
   "source": [
    "import os\n",
    "\n",
    "non_50_list = []\n",
    "\n",
    "base_path = r\"C:\\DocumentsAndStuff\\Documents\\Research\\CollapsedWithAOI\"\n",
    "for file in os.listdir(base_path):\n",
    "    if file.endswith(\"csv\"):\n",
    "        filepath = os.path.join(base_path, file)\n",
    "        print(\"File: {}\".format(filepath))\n",
    "        df2 = pd.read_csv(filepath, index_col=False)\n",
    "        count = count_num_tasks(df2)\n",
    "        \n",
    "        if (count != 50):\n",
    "            # raise ValueError(\"This file does not have 50 tasks!\")\n",
    "            print(\"This file does not have 50 tasks\")\n",
    "            non_50_list.append([file, count])"
   ]
  },
  {
   "cell_type": "code",
   "execution_count": null,
   "metadata": {},
   "outputs": [],
   "source": [
    "non_50_list\n",
    "with open(\"non50tasks.txt\", \"w\") as file:\n",
    "    for list1 in non_50_list:\n",
    "        list1 = [str(x) for x in list1]\n",
    "        file.write(\",\".join(list1))\n",
    "        file.write(\"\\n\")"
   ]
  },
  {
   "cell_type": "code",
   "execution_count": null,
   "metadata": {},
   "outputs": [],
   "source": [
    "df_temp = pd.read_csv(\"13_output.csv\", index_col=False)\n",
    "count_num_tasks(df_temp)"
   ]
  },
  {
   "cell_type": "markdown",
   "metadata": {},
   "source": [
    "# Count repeated tasks"
   ]
  },
  {
   "cell_type": "code",
   "execution_count": 17,
   "metadata": {},
   "outputs": [
    {
     "name": "stdout",
     "output_type": "stream",
     "text": [
      "File: C:\\DocumentsAndStuff\\Documents\\Research\\CollapsedWithAOI\\10_collapsed.csv\n",
      "File: C:\\DocumentsAndStuff\\Documents\\Research\\CollapsedWithAOI\\11_collapsed.csv\n",
      "File: C:\\DocumentsAndStuff\\Documents\\Research\\CollapsedWithAOI\\12_collapsed.csv\n",
      "File: C:\\DocumentsAndStuff\\Documents\\Research\\CollapsedWithAOI\\13_collapsed.csv\n",
      "File: C:\\DocumentsAndStuff\\Documents\\Research\\CollapsedWithAOI\\14_collapsed.csv\n",
      "File: C:\\DocumentsAndStuff\\Documents\\Research\\CollapsedWithAOI\\16_collapsed.csv\n",
      "File: C:\\DocumentsAndStuff\\Documents\\Research\\CollapsedWithAOI\\17_collapsed.csv\n",
      "File: C:\\DocumentsAndStuff\\Documents\\Research\\CollapsedWithAOI\\18_collapsed.csv\n",
      "File: C:\\DocumentsAndStuff\\Documents\\Research\\CollapsedWithAOI\\19_collapsed.csv\n",
      "File: C:\\DocumentsAndStuff\\Documents\\Research\\CollapsedWithAOI\\20_collapsed.csv\n",
      "File: C:\\DocumentsAndStuff\\Documents\\Research\\CollapsedWithAOI\\21_collapsed.csv\n",
      "File: C:\\DocumentsAndStuff\\Documents\\Research\\CollapsedWithAOI\\22_collapsed.csv\n",
      "File: C:\\DocumentsAndStuff\\Documents\\Research\\CollapsedWithAOI\\24_collapsed.csv\n",
      "File: C:\\DocumentsAndStuff\\Documents\\Research\\CollapsedWithAOI\\25_collapsed.csv\n",
      "File: C:\\DocumentsAndStuff\\Documents\\Research\\CollapsedWithAOI\\26_collapsed.csv\n",
      "File: C:\\DocumentsAndStuff\\Documents\\Research\\CollapsedWithAOI\\27_collapsed.csv\n",
      "File: C:\\DocumentsAndStuff\\Documents\\Research\\CollapsedWithAOI\\28_collapsed.csv\n",
      "File: C:\\DocumentsAndStuff\\Documents\\Research\\CollapsedWithAOI\\29_collapsed.csv\n",
      "File: C:\\DocumentsAndStuff\\Documents\\Research\\CollapsedWithAOI\\30_collapsed.csv\n",
      "File: C:\\DocumentsAndStuff\\Documents\\Research\\CollapsedWithAOI\\31_collapsed.csv\n",
      "File: C:\\DocumentsAndStuff\\Documents\\Research\\CollapsedWithAOI\\32_collapsed.csv\n",
      "File: C:\\DocumentsAndStuff\\Documents\\Research\\CollapsedWithAOI\\33_collapsed.csv\n",
      "File: C:\\DocumentsAndStuff\\Documents\\Research\\CollapsedWithAOI\\34_collapsed.csv\n",
      "File: C:\\DocumentsAndStuff\\Documents\\Research\\CollapsedWithAOI\\35_collapsed.csv\n",
      "File: C:\\DocumentsAndStuff\\Documents\\Research\\CollapsedWithAOI\\36_collapsed.csv\n",
      "File: C:\\DocumentsAndStuff\\Documents\\Research\\CollapsedWithAOI\\50_collapsed.csv\n",
      "File: C:\\DocumentsAndStuff\\Documents\\Research\\CollapsedWithAOI\\51_collapsed.csv\n",
      "File: C:\\DocumentsAndStuff\\Documents\\Research\\CollapsedWithAOI\\52_collapsed.csv\n",
      "File: C:\\DocumentsAndStuff\\Documents\\Research\\CollapsedWithAOI\\7_collapsed.csv\n",
      "File: C:\\DocumentsAndStuff\\Documents\\Research\\CollapsedWithAOI\\8_collapsed.csv\n",
      "Row: 5480/5480\r"
     ]
    },
    {
     "data": {
      "text/plain": [
       "[['10_collapsed.csv', ['DH5', 'CH5', 'CH3']],\n",
       " ['11_collapsed.csv', ['CH5', 'CH3', 'DH5', 'DH3']],\n",
       " ['12_collapsed.csv', ['DH3', 'CH5', 'DH5', 'CH3']],\n",
       " ['13_collapsed.csv', ['CH5', 'DH5', 'DH3', 'CH3']],\n",
       " ['14_collapsed.csv', ['CH3', 'DH5', 'CH5', 'DH3']],\n",
       " ['16_collapsed.csv', ['DH3', 'DH5', 'CH3']],\n",
       " ['17_collapsed.csv', ['CH5', 'CH3', 'DH5', 'DH3']],\n",
       " ['18_collapsed.csv', ['DH5', 'CH3', 'CH5', 'DH3']],\n",
       " ['19_collapsed.csv', ['CH5', 'CH3', 'DH5']],\n",
       " ['20_collapsed.csv', ['CH3', 'DH3', 'CH5', 'DH5']],\n",
       " ['21_collapsed.csv', ['CH3', 'CH5', 'DH5', 'DH3']],\n",
       " ['22_collapsed.csv', ['CH3', 'DH5', 'CH5', 'DH3']],\n",
       " ['24_collapsed.csv', ['CH5', 'CH3', 'DH3']],\n",
       " ['25_collapsed.csv', ['DH5', 'DH3', 'CH5', 'CH3']],\n",
       " ['26_collapsed.csv', ['DH3', 'CH5', 'CH3', 'DH5']],\n",
       " ['27_collapsed.csv', ['DH3', 'DH5', 'CH3', 'CH5']],\n",
       " ['28_collapsed.csv', ['CH3', 'DH5', 'CH5', 'DH3']],\n",
       " ['29_collapsed.csv', ['DH3', 'DH5', 'CH3', 'CH5']],\n",
       " ['30_collapsed.csv', ['CH5', 'CH3', 'DH5', 'DH3']],\n",
       " ['31_collapsed.csv', ['CH5', 'DH3', 'DH5', 'CH3']],\n",
       " ['32_collapsed.csv', ['CH3', 'DH3', 'DH5', 'CH5']],\n",
       " ['33_collapsed.csv', ['DH3', 'DH5', 'CH5', 'CH3']],\n",
       " ['34_collapsed.csv', ['CH3', 'DH3', 'CH5', 'DH5']],\n",
       " ['35_collapsed.csv', ['CH3', 'CH5', 'DH5', 'DH3']],\n",
       " ['36_collapsed.csv', ['DH5', 'CH5', 'CH3', 'DH3']],\n",
       " ['50_collapsed.csv', ['CH5', 'DH3', 'DH5', 'CH3']],\n",
       " ['51_collapsed.csv', ['CH5', 'CH3', 'DH3']],\n",
       " ['52_collapsed.csv', ['DH3', 'DH5', 'CH5', 'CH3']],\n",
       " ['7_collapsed.csv', ['CH5', 'DH5', 'DH3', 'CH3']],\n",
       " ['8_collapsed.csv', ['DH5', 'CH5', 'CH3', 'DH3']]]"
      ]
     },
     "execution_count": 17,
     "metadata": {},
     "output_type": "execute_result"
    }
   ],
   "source": [
    "list_of_repeated = []\n",
    "for file in os.listdir(base_path):\n",
    "    if file.endswith(\"csv\"):\n",
    "        set1 = set()\n",
    "        # Have another set to check if the task is already added\n",
    "        already_added_set = set()\n",
    "\n",
    "        list1 = []\n",
    "        \n",
    "        filepath = os.path.join(base_path, file)\n",
    "        print(\"File: {}\".format(filepath))\n",
    "        df2 = pd.read_csv(filepath, index_col=False)\n",
    "        \n",
    "        row_count = 0\n",
    "        total_row_count = len(df2.index)\n",
    "        prev_task = \"\"\n",
    "        \n",
    "        # Iterate over each row\n",
    "        for index, row in df2.iterrows():\n",
    "            cur_task = row[\"Current_task\"]\n",
    "            if cur_task.upper() != \"PRETASK\".upper():\n",
    "                # Add it to the set ONLY if the contiguous block \"ends\"\n",
    "                if prev_task != cur_task:\n",
    "                    prev_task = cur_task\n",
    "                    # Check for repeats\n",
    "                    if cur_task in set1 and cur_task not in already_added_set:\n",
    "                        # add to the list\n",
    "                        list1.append(cur_task)\n",
    "                        already_added_set.add(cur_task)\n",
    "                    \n",
    "                    set1.add(cur_task)\n",
    "            row_count += 1\n",
    "            s = \"Row: {}/{}\".format(row_count, total_row_count)\n",
    "            print(s, end=\"\\r\")\n",
    "            \n",
    "        list_of_repeated.append([file, list1])\n",
    "\n",
    "list_of_repeated"
   ]
  },
  {
   "cell_type": "code",
   "execution_count": 20,
   "metadata": {},
   "outputs": [
    {
     "name": "stdout",
     "output_type": "stream",
     "text": [
      "finished writing!\n"
     ]
    }
   ],
   "source": [
    "with open(\"RepeatedTasks.csv\", \"w\") as file:\n",
    "    for row in list_of_repeated:\n",
    "        s = [row[0]]\n",
    "        s.append(\",\".join(row[1]))\n",
    "        file.write(\",\".join(s))\n",
    "        file.write(\"\\n\")\n",
    "    print(\"finished writing!\")"
   ]
  },
  {
   "cell_type": "code",
   "execution_count": null,
   "metadata": {},
   "outputs": [],
   "source": []
  }
 ],
 "metadata": {
  "kernelspec": {
   "display_name": "Python 3",
   "language": "python",
   "name": "python3"
  },
  "language_info": {
   "codemirror_mode": {
    "name": "ipython",
    "version": 3
   },
   "file_extension": ".py",
   "mimetype": "text/x-python",
   "name": "python",
   "nbconvert_exporter": "python",
   "pygments_lexer": "ipython3",
   "version": "3.7.1"
  }
 },
 "nbformat": 4,
 "nbformat_minor": 2
}
