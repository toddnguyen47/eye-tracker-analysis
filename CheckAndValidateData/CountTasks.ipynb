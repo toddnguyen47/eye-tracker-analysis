{
 "cells": [
  {
   "cell_type": "code",
   "execution_count": 2,
   "metadata": {},
   "outputs": [],
   "source": [
    "import pandas as pd\n",
    "import os\n",
    "import json\n",
    "\n",
    "base_path = r\"C:\\DocumentsAndStuff\\Documents\\Research\\CollapsedWithAOI\""
   ]
  },
  {
   "cell_type": "code",
   "execution_count": null,
   "metadata": {},
   "outputs": [],
   "source": [
    "def count_num_tasks(df):\n",
    "    prev_task = \"\"\n",
    "    count = 0\n",
    "    row_count = 0\n",
    "    total_row_count = len(df.index)\n",
    "\n",
    "    for index, row in df.iterrows():\n",
    "        cur_task = row[\"Current_task\"]\n",
    "        if cur_task.upper() != \"PRETASK\".upper():\n",
    "            if prev_task.upper() != cur_task.upper():\n",
    "                count += 1\n",
    "\n",
    "            prev_task = cur_task\n",
    "\n",
    "        row_count += 1\n",
    "        s = \"Row: {}/{}\".format(row_count, total_row_count)\n",
    "        print(s, end=\"\\r\")\n",
    "\n",
    "    print(\"\")\n",
    "    print(count)\n",
    "    return count"
   ]
  },
  {
   "cell_type": "code",
   "execution_count": null,
   "metadata": {},
   "outputs": [],
   "source": [
    "non_50_list = []\n",
    "\n",
    "for file in os.listdir(base_path):\n",
    "    if file.endswith(\"csv\"):\n",
    "        filepath = os.path.join(base_path, file)\n",
    "        print(\"File: {}\".format(filepath))\n",
    "        df2 = pd.read_csv(filepath, index_col=False)\n",
    "        count = count_num_tasks(df2)\n",
    "        \n",
    "        if (count != 50):\n",
    "            # raise ValueError(\"This file does not have 50 tasks!\")\n",
    "            print(\"This file does not have 50 tasks\")\n",
    "            non_50_list.append([file, count])"
   ]
  },
  {
   "cell_type": "code",
   "execution_count": null,
   "metadata": {},
   "outputs": [],
   "source": [
    "non_50_list\n",
    "with open(\"non50tasks.txt\", \"w\") as file:\n",
    "    for list1 in non_50_list:\n",
    "        list1 = [str(x) for x in list1]\n",
    "        file.write(\",\".join(list1))\n",
    "        file.write(\"\\n\")"
   ]
  },
  {
   "cell_type": "code",
   "execution_count": null,
   "metadata": {},
   "outputs": [],
   "source": [
    "df_temp = pd.read_csv(\"13_output.csv\", index_col=False)\n",
    "count_num_tasks(df_temp)"
   ]
  },
  {
   "cell_type": "markdown",
   "metadata": {},
   "source": [
    "# Count repeated tasks"
   ]
  },
  {
   "cell_type": "code",
   "execution_count": null,
   "metadata": {},
   "outputs": [
    {
     "name": "stdout",
     "output_type": "stream",
     "text": [
      "File: C:\\DocumentsAndStuff\\Documents\\Research\\CollapsedWithAOI\\10_collapsed.csv\n",
      "File: C:\\DocumentsAndStuff\\Documents\\Research\\CollapsedWithAOI\\11_collapsed.csv\n",
      "File: C:\\DocumentsAndStuff\\Documents\\Research\\CollapsedWithAOI\\12_collapsed.csv\n",
      "File: C:\\DocumentsAndStuff\\Documents\\Research\\CollapsedWithAOI\\13_collapsed.csv\n",
      "File: C:\\DocumentsAndStuff\\Documents\\Research\\CollapsedWithAOI\\14_collapsed.csv\n",
      "Row: 4438/7904\r"
     ]
    }
   ],
   "source": [
    "list_of_repeated = []\n",
    "list_of_counts = []\n",
    "\n",
    "for file in os.listdir(base_path):\n",
    "    if file.endswith(\"csv\"):\n",
    "        total_count = 0\n",
    "        \n",
    "        set1 = set()\n",
    "        # Have another set to check if the task is already added\n",
    "        already_added_set = set()\n",
    "\n",
    "        list1 = []\n",
    "        \n",
    "        filepath = os.path.join(base_path, file)\n",
    "        print(\"File: {}\".format(filepath))\n",
    "        df2 = pd.read_csv(filepath, index_col=False)\n",
    "        \n",
    "        row_count = 0\n",
    "        total_row_count = len(df2.index)\n",
    "        prev_task = \"\"\n",
    "        \n",
    "        # Iterate over each row\n",
    "        for index, row in df2.iterrows():\n",
    "            cur_task = row[\"Current_task\"]\n",
    "            if cur_task.upper() != \"PRETASK\".upper():\n",
    "                # Add it to the set ONLY if the contiguous block \"ends\"\n",
    "                if prev_task != cur_task:\n",
    "                    prev_task = cur_task\n",
    "                    # Check for repeats\n",
    "                    if cur_task in set1 and cur_task not in already_added_set:\n",
    "                        # add to the list\n",
    "                        list1.append(cur_task)\n",
    "                        already_added_set.add(cur_task)\n",
    "                    \n",
    "                    # Only increment count on non-repeated sets\n",
    "                    if cur_task not in set1:\n",
    "                        total_count += 1\n",
    "                    \n",
    "                    set1.add(cur_task)\n",
    "            row_count += 1\n",
    "            s = \"Row: {}/{}\".format(row_count, total_row_count)\n",
    "            print(s, end=\"\\r\")\n",
    "            \n",
    "        list_of_repeated.append([file, list1])\n",
    "        list_of_counts.append([file, total_count])"
   ]
  },
  {
   "cell_type": "code",
   "execution_count": null,
   "metadata": {},
   "outputs": [],
   "source": [
    "print(list_of_counts)\n",
    "print(list_of_repeated)\n",
    "\n",
    "total_deficit = 0\n",
    "for row in list_of_counts:\n",
    "    deficit = 50 - row[1]\n",
    "    print(deficit, end=\", \")\n",
    "    total_deficit += deficit\n",
    "\n",
    "print(\"\")\n",
    "print(total_deficit)"
   ]
  },
  {
   "cell_type": "code",
   "execution_count": 3,
   "metadata": {},
   "outputs": [
    {
     "ename": "NameError",
     "evalue": "name 'list_of_counts' is not defined",
     "output_type": "error",
     "traceback": [
      "\u001b[1;31m---------------------------------------------------------------------------\u001b[0m",
      "\u001b[1;31mNameError\u001b[0m                                 Traceback (most recent call last)",
      "\u001b[1;32m<ipython-input-3-7a555e5eab91>\u001b[0m in \u001b[0;36m<module>\u001b[1;34m\u001b[0m\n\u001b[0;32m      5\u001b[0m     \u001b[0mfile\u001b[0m\u001b[1;33m.\u001b[0m\u001b[0mwrite\u001b[0m\u001b[1;33m(\u001b[0m\u001b[1;34m\",\"\u001b[0m\u001b[1;33m.\u001b[0m\u001b[0mjoin\u001b[0m\u001b[1;33m(\u001b[0m\u001b[0mheaders\u001b[0m\u001b[1;33m)\u001b[0m\u001b[1;33m)\u001b[0m\u001b[1;33m\u001b[0m\u001b[1;33m\u001b[0m\u001b[0m\n\u001b[0;32m      6\u001b[0m     \u001b[0mfile\u001b[0m\u001b[1;33m.\u001b[0m\u001b[0mwrite\u001b[0m\u001b[1;33m(\u001b[0m\u001b[1;34m\"\\n\"\u001b[0m\u001b[1;33m)\u001b[0m\u001b[1;33m\u001b[0m\u001b[1;33m\u001b[0m\u001b[0m\n\u001b[1;32m----> 7\u001b[1;33m     \u001b[1;32mfor\u001b[0m \u001b[0mrow\u001b[0m \u001b[1;32min\u001b[0m \u001b[0mlist_of_counts\u001b[0m\u001b[1;33m:\u001b[0m\u001b[1;33m\u001b[0m\u001b[1;33m\u001b[0m\u001b[0m\n\u001b[0m\u001b[0;32m      8\u001b[0m         \u001b[0mdeficit\u001b[0m \u001b[1;33m=\u001b[0m \u001b[1;36m50\u001b[0m \u001b[1;33m-\u001b[0m \u001b[0mrow\u001b[0m\u001b[1;33m[\u001b[0m\u001b[1;36m1\u001b[0m\u001b[1;33m]\u001b[0m\u001b[1;33m\u001b[0m\u001b[1;33m\u001b[0m\u001b[0m\n\u001b[0;32m      9\u001b[0m         \u001b[0mtotal_deficit\u001b[0m \u001b[1;33m+=\u001b[0m \u001b[0mdeficit\u001b[0m\u001b[1;33m\u001b[0m\u001b[1;33m\u001b[0m\u001b[0m\n",
      "\u001b[1;31mNameError\u001b[0m: name 'list_of_counts' is not defined"
     ]
    }
   ],
   "source": [
    "# Total Deficit Output\n",
    "total_deficit = 0\n",
    "total_\n",
    "\n",
    "with open(\"TasksDeficit.csv\", \"w\") as file:\n",
    "    headers = [\"File Name\", \"Number of Unique Tasks\", \"Deficit (From 50)\"]\n",
    "    file.write(\",\".join(headers))\n",
    "    file.write(\"\\n\")\n",
    "    for row in list_of_counts:\n",
    "        deficit = 50 - row[1]\n",
    "        total_deficit += deficit\n",
    "        s = [row[0], row[1], deficit]\n",
    "        s = [str(x) for x in s]\n",
    "        file.write(\",\".join(s))\n",
    "        file.write(\"\\n\")\n",
    "\n",
    "    # \"Total\" row\n",
    "    s = [\"TOTAL\", \"\", str(total_deficit)]\n",
    "    file.write(\",\".join(s))\n",
    "    file.write(\"\\n\")\n",
    "\n",
    "print(\"Finished exporting\")"
   ]
  },
  {
   "cell_type": "code",
   "execution_count": 20,
   "metadata": {},
   "outputs": [
    {
     "name": "stdout",
     "output_type": "stream",
     "text": [
      "finished writing!\n"
     ]
    }
   ],
   "source": [
    "# RepeatedTask output\n",
    "with open(\"RepeatedTasks.csv\", \"w\") as file:\n",
    "    for row in list_of_repeated:\n",
    "        s = [row[0]]\n",
    "        s.append(\",\".join(row[1]))\n",
    "        file.write(\",\".join(s))\n",
    "        file.write(\"\\n\")\n",
    "    print(\"finished writing!\")"
   ]
  },
  {
   "cell_type": "code",
   "execution_count": null,
   "metadata": {},
   "outputs": [],
   "source": []
  }
 ],
 "metadata": {
  "kernelspec": {
   "display_name": "Python 3",
   "language": "python",
   "name": "python3"
  },
  "language_info": {
   "codemirror_mode": {
    "name": "ipython",
    "version": 3
   },
   "file_extension": ".py",
   "mimetype": "text/x-python",
   "name": "python",
   "nbconvert_exporter": "python",
   "pygments_lexer": "ipython3",
   "version": "3.7.1"
  }
 },
 "nbformat": 4,
 "nbformat_minor": 2
}
