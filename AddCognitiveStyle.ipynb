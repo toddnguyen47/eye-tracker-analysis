{
 "cells": [
  {
   "cell_type": "code",
   "execution_count": null,
   "metadata": {},
   "outputs": [],
   "source": [
    "import pandas as pd"
   ]
  },
  {
   "cell_type": "code",
   "execution_count": null,
   "metadata": {},
   "outputs": [],
   "source": [
    "cognitive_style_csv = r\"Z:\\Dropbox\\CurrentClasses\\graduate_project\\CognitiveStyle\\CognitiveStyleWithID.csv\"\n",
    "cog_df = pd.read_csv(cognitive_style_csv, index_col=False)"
   ]
  },
  {
   "cell_type": "markdown",
   "metadata": {},
   "source": [
    "# Setup the High/Medium/Low or High/Low dictionary"
   ]
  },
  {
   "cell_type": "code",
   "execution_count": null,
   "metadata": {},
   "outputs": [],
   "source": [
    "dict1 = {}\n",
    "\n",
    "def getHighMedLow(str_input):\n",
    "    int_i = int(str_input)\n",
    "    if (int_i == 3):\n",
    "        str1 = \"High\"\n",
    "    elif (int_i == 2):\n",
    "        str1 = \"Medium\"\n",
    "    elif (int_i == 1):\n",
    "        str1 = \"Low\"\n",
    "    else:\n",
    "        raise ValueError(\"not 3, 2, or 1\")\n",
    "    \n",
    "    return str1\n",
    "\n",
    "def getHighLow(str_input):\n",
    "    int_i = int(str_input)\n",
    "    if (int_i == 1):\n",
    "        str1 = \"High\"\n",
    "    elif (int_i == 0):\n",
    "        str1 = \"Low\"\n",
    "    else:\n",
    "        raise ValueError(\"not 3, 2, or 1\")\n",
    "    \n",
    "    return str1\n",
    "\n",
    "\n",
    "for index, row in cog_df.iterrows():\n",
    "    participant_id = row[\"ParticipantID\"]\n",
    "    if participant_id != 0:\n",
    "        himelo = getHighMedLow(row[\"HIGH-3/MEDIUM-2/LOW-1\"])\n",
    "        hilo = getHighLow(row[\"HIGH-1/LOW-0\"])\n",
    "        dict1[participant_id] = [himelo, hilo]\n",
    "\n",
    "# import json\n",
    "# print(json.dumps(dict1, indent=2))"
   ]
  },
  {
   "cell_type": "markdown",
   "metadata": {},
   "source": [
    "# All Users"
   ]
  },
  {
   "cell_type": "code",
   "execution_count": null,
   "metadata": {},
   "outputs": [],
   "source": [
    "all_users_path = r\"Z:\\opt\\statsAllUsers.csv\"\n",
    "df_all_users = pd.read_csv(all_users_path, index_col=False)\n",
    "df_all_users"
   ]
  },
  {
   "cell_type": "code",
   "execution_count": null,
   "metadata": {},
   "outputs": [],
   "source": [
    "hi_md_lo_list = []\n",
    "hi_lo_list = []\n",
    "for index, row in df_all_users.iterrows():\n",
    "    participant_id = row[\"Participant\"]\n",
    "    cogstyle = dict1[participant_id]\n",
    "    hi_md_lo_list.append(cogstyle[0])\n",
    "    hi_lo_list.append(cogstyle[1])\n",
    "\n",
    "df_all_users[\"HIGH-3/MEDIUM-2/LOW-1\"] = hi_md_lo_list\n",
    "df_all_users[\"HIGH-1/LOW-0\"] = hi_lo_list\n",
    "df_all_users.to_csv(\"statsAllUsersCogStyle.csv\", index=False)"
   ]
  },
  {
   "cell_type": "markdown",
   "metadata": {},
   "source": [
    "# Per Task"
   ]
  },
  {
   "cell_type": "code",
   "execution_count": null,
   "metadata": {},
   "outputs": [],
   "source": [
    "per_task_path = r\"Z:\\DocumentsAndStuff\\Desktop\\statsPerTask.csv\"\n",
    "df_per_task = pd.read_csv(per_task_path, index_col=False)"
   ]
  },
  {
   "cell_type": "code",
   "execution_count": null,
   "metadata": {},
   "outputs": [],
   "source": [
    "hi_md_lo_list = []\n",
    "hi_lo_list = []\n",
    "for index, row in df_per_task.iterrows():\n",
    "    participant_id = row[\"ParticipantID\"]\n",
    "    cogstyle = dict1[participant_id]\n",
    "    hi_md_lo_list.append(cogstyle[0])\n",
    "    hi_lo_list.append(cogstyle[1])\n",
    "    \n",
    "df_per_task[\"HIGH-3/MEDIUM-2/LOW-1\"] = hi_md_lo_list\n",
    "df_per_task[\"HIGH-1/LOW-0\"] = hi_lo_list\n",
    "df_per_task.to_csv(\"statsPerTaskCogStyle.csv\", index=False)\n",
    "\n",
    "print(\"DONE!\")"
   ]
  },
  {
   "cell_type": "markdown",
   "metadata": {},
   "source": [
    "# Add Name to CognitiveStyle CSV"
   ]
  },
  {
   "cell_type": "code",
   "execution_count": null,
   "metadata": {},
   "outputs": [],
   "source": [
    "import pandas as pd\n",
    "\n",
    "cogstyleDf = pd.read_csv(r\"Z:\\Dropbox\\CurrentClasses\\graduate_project\\CognitiveStyle\\CognitiveStyle.csv\",\n",
    "                        index_col=False)\n",
    "cogstyleDf\n",
    "\n",
    "import os\n",
    "\n",
    "filepath = r\"C:\\Users\\GamingAccount\\Desktop\\CollapsedWithAOI\"\n",
    "participant_id_list = [0] * len(cogstyleDf.index)\n",
    "# participant_id_list = []\n",
    "\n",
    "for file in os.listdir(filepath):\n",
    "    if file.endswith(\"csv\"):\n",
    "        participant_id = \"\"\n",
    "        for char in file:\n",
    "            if char.isdigit():\n",
    "                participant_id = \"\".join((participant_id, char))\n",
    "        \n",
    "        full_fp = os.path.join(filepath, file)\n",
    "        df = pd.read_csv(full_fp, index_col=False)\n",
    "        name = df[\"Name\"][0].split(\" \")\n",
    "        last_name = name[1]\n",
    "        first_name = name[0]\n",
    "        \n",
    "        lastname_df = cogstyleDf[\"LastName\"]\n",
    "        # Iterate through all last names\n",
    "        for i in range(len(lastname_df)):\n",
    "            name2 = lastname_df[i]\n",
    "            if (name2 == last_name) and (first_name == cogstyleDf[\"FirstName\"][i]):\n",
    "                participant_id_list[i] = participant_id\n",
    "                \n",
    "print(len(participant_id_list))\n",
    "cogstyleDf[\"ParticipantID\"] = participant_id_list\n",
    "cogstyleDf.to_csv(\"CognitiveStyleWithID.csv\", index=False)\n",
    "cogstyleDf"
   ]
  }
 ],
 "metadata": {
  "kernelspec": {
   "display_name": "Python 3",
   "language": "python",
   "name": "python3"
  },
  "language_info": {
   "codemirror_mode": {
    "name": "ipython",
    "version": 3
   },
   "file_extension": ".py",
   "mimetype": "text/x-python",
   "name": "python",
   "nbconvert_exporter": "python",
   "pygments_lexer": "ipython3",
   "version": "3.7.0"
  }
 },
 "nbformat": 4,
 "nbformat_minor": 2
}
